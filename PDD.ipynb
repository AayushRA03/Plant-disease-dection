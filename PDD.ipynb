{
 "cells": [
  {
   "cell_type": "code",
   "execution_count": null,
   "id": "OL_zb1w9aqBo",
   "metadata": {
    "colab": {
     "base_uri": "https://localhost:8080/"
    },
    "id": "OL_zb1w9aqBo",
    "outputId": "541f4c8d-5678-4a3c-9aeb-dc6b4cf4bfa8"
   },
   "outputs": [
    {
     "name": "stdout",
     "output_type": "stream",
     "text": [
      "Drive already mounted at /content/drive; to attempt to forcibly remount, call drive.mount(\"/content/drive\", force_remount=True).\n"
     ]
    }
   ],
   "source": [
    "from google.colab import drive\n",
    "drive.mount('/content/drive')"
   ]
  },
  {
   "cell_type": "code",
   "execution_count": null,
   "id": "etF4T0xBavpM",
   "metadata": {
    "colab": {
     "base_uri": "https://localhost:8080/"
    },
    "id": "etF4T0xBavpM",
    "outputId": "40ebdc94-2a84-403f-f9bc-591330411941"
   },
   "outputs": [
    {
     "name": "stdout",
     "output_type": "stream",
     "text": [
      "Successfully extracted '/content/drive/MyDrive/archive (1).zip' to '/content'\n"
     ]
    }
   ],
   "source": [
    "# prompt: generate code to unzip /content/drive/MyDrive/archive (2).zip this file at /content folder\n",
    "import zipfile\n",
    "import os\n",
    "\n",
    "\n",
    "# Define the path to the zip file and the extraction directory\n",
    "zip_file_path = \"/content/drive/MyDrive/archive (1).zip\"\n",
    "extract_dir = \"/content\"\n",
    "\n",
    "# Check if the zip file exists\n",
    "if os.path.exists(zip_file_path):\n",
    "    try:\n",
    "        # Create a ZipFile object\n",
    "        with zipfile.ZipFile(zip_file_path, 'r') as zip_ref:\n",
    "            # Extract all contents to the specified directory\n",
    "            zip_ref.extractall(extract_dir)\n",
    "        print(f\"Successfully extracted '{zip_file_path}' to '{extract_dir}'\")\n",
    "    except zipfile.BadZipFile:\n",
    "        print(f\"Error: '{zip_file_path}' is not a valid zip file.\")\n",
    "    except Exception as e:\n",
    "        print(f\"An error occurred: {e}\")\n",
    "else:\n",
    "    print(f\"Error: '{zip_file_path}' does not exist.\")\n"
   ]
  },
  {
   "cell_type": "code",
   "execution_count": 2,
   "id": "1dcc9bdc-cd50-44eb-832b-9cc30392e0c7",
   "metadata": {
    "id": "1dcc9bdc-cd50-44eb-832b-9cc30392e0c7"
   },
   "outputs": [],
   "source": [
    "#data allocation\n",
    "import os #loading images\n",
    "import glob #loading images\n",
    "#data prepration\n",
    "from collections import Counter #basic info(numb.img,classes samples)\n",
    "import matplotlib.pyplot as plt #image visualization\n",
    "import random #image visualization\n",
    "from PIL import Image  #image visualization\n",
    "import cv2  #analyze image properties\n",
    "import seaborn as sns #class distribution\n",
    "import numpy as np#checking pixel\n",
    "import pandas as pd\n",
    "import tensorflow as tf# Data Augmentation\n",
    "import random\n",
    "from PIL import Image\n",
    "import tensorflow as tf\n",
    "from sklearn.utils.class_weight import compute_class_weight\n",
    "#model\n",
    "from tensorflow.keras.applications import MobileNetV2 #modle to establish a baseline.\n",
    "from tensorflow.keras import layers, models#custom build"
   ]
  },
  {
   "cell_type": "code",
   "execution_count": 11,
   "id": "0d8da3ac-d721-4358-b716-4180cbd1fea3",
   "metadata": {
    "id": "0d8da3ac-d721-4358-b716-4180cbd1fea3"
   },
   "outputs": [],
   "source": [
    "#Loading dataset\n",
    "train_path = \"/content/New Plant Diseases Dataset(Augmented)/New Plant Diseases Dataset(Augmented)/train/\"\n",
    "valid_path = \"/content/New Plant Diseases Dataset(Augmented)/New Plant Diseases Dataset(Augmented)/valid/\"\n",
    "test_path  =\"/content/test\"\n",
    "train_image_path = glob.glob(os.path.join(train_path,\"*/*.JPG\"))\n",
    "valid_image_path = glob.glob(os.path.join(valid_path,\"*/*.JPG\"))\n",
    "test_image_path  = glob.glob(os.path.join(test_path,\"*/*.JPG\"))"
   ]
  },
  {
   "cell_type": "code",
   "execution_count": null,
   "id": "cc061add-d159-41a9-bb6b-05143407e92d",
   "metadata": {},
   "outputs": [],
   "source": [
    "#basic info\n",
    "#class labes from folder names\n",
    "import pprint\n",
    "\n",
    "train_class_names = [os.path.basename(os.path.dirname(path))for path in train_image_path]\n",
    "train_class_counts  = Counter(train_class_names)\n",
    "print(f\"Total train images:{len(train_image_path)}\")\n",
    "print(\"\\n\")\n",
    "pprint.pp(f\"classes:{list(train_class_counts.keys())}\")\n",
    "print(\"\\n\")\n",
    "pprint.pp(f\"sample per class:{train_class_counts}\")\n",
    "print(\"\\n\")\n",
    "\n",
    "valid_class_names = [os.path.basename(os.path.dirname(path))for path in valid_image_path]\n",
    "valid_class_count = Counter(valid_class_names)\n",
    "print(f\"Total valid images:{len(valid_image_path)}\")\n",
    "print(\"\\n\")\n",
    "pprint.pp(f\"classes:{list(valid_class_count.keys())}\")\n",
    "print(\"\\n\")\n",
    "pprint.pp(f\"sample per class:{valid_class_count}\")\n",
    "print(\"\\n\")\n",
    "\n",
    "test_class_names = [os.path.basename(os.path.dirname(path))for path in test_image_path]\n",
    "test_class_count = Counter(valid_class_names)\n",
    "print(f\"Total test images:{len(test_image_path)}\")\n",
    "print(\"\\n\")\n",
    "pprint.pp(f\"classes:{list(test_class_count.keys())}\")\n",
    "print(\"\\n\")\n",
    "pprint.pp(f\"sample per class:{test_class_count}\")\n",
    "print(\"\\n\")"
   ]
  },
  {
   "cell_type": "code",
   "execution_count": null,
   "id": "0b668e54-4183-4968-b622-0e6db69b2b80",
   "metadata": {},
   "outputs": [],
   "source": [
    "#iinspect properties(dimension, color, channels, aspect ratios\n",
    "dimension =[]\n",
    "for path in train_image_path:\n",
    "    img = cv2.imread(path)\n",
    "    dimension.append(img.shape) #(height, width, channels)\n",
    "print(\"\\n\")\n",
    "\n",
    "for path in test_image_path:\n",
    "    img = cv2.imread(path)\n",
    "    dimension.append(img.shape)\n",
    "print(\"\\n\")\n",
    "\n",
    "for path in valid_image_path:\n",
    "    img = cv2.imread(path)\n",
    "    dimension.append(img.shape)"
   ]
  },
  {
   "cell_type": "code",
   "execution_count": null,
   "id": "6eb9ccf2-eef7-465d-8ff5-13696c18dbe9",
   "metadata": {},
   "outputs": [],
   "source": [
    "#calculating statistics\n",
    "height = [dim[0] for dim in dimension]\n",
    "width = [dim[1] for  dim in dimension]\n",
    "\n",
    "print(f\"Average height:{sum(height)/len(height):.2f}\")\n",
    "print(f\"Average widht:{sum(width)/len(width):.2f}\")"
   ]
  },
  {
   "cell_type": "code",
   "execution_count": null,
   "id": "170d3bb7-1c65-40e0-a8c8-745c456b0a99",
   "metadata": {},
   "outputs": [],
   "source": [
    "#visualization of image\n",
    "plt.hist(height, bins = 20, alpha = 0.7, label='height')\n",
    "plt.hist (width, bins = 20, alpha = 0.7,label='width')\n",
    "plt.legend()\n",
    "plt.title(\"image size distribution\")\n",
    "plt.show()"
   ]
  },
  {
   "cell_type": "code",
   "execution_count": null,
   "id": "e05e6377-d74b-493e-bd5d-61e156f9417e",
   "metadata": {},
   "outputs": [],
   "source": [
    "#number of images per class for checking balance\n",
    "plt.figure(figsize=(25, 5))\n",
    "sns.barplot(x=list(train_class_counts.keys()), y=list(train_class_counts.values()))\n",
    "plt.xticks(rotation=45)\n",
    "plt.title(\"Class Distribution\")\n",
    "plt.xlabel(\"Class\")\n",
    "plt.ylabel(\"Number of Images\")\n",
    "plt.show()\n",
    "print(\"\\n\")\n",
    "plt.figure(figsize=(25, 5))\n",
    "sns.barplot(x=list(valid_class_count.keys()), y=list(valid_class_count.values()))\n",
    "plt.xticks(rotation=45)\n",
    "plt.title(\"Class Distribution\")\n",
    "plt.xlabel(\"Class\")\n",
    "plt.ylabel(\"Number of Images\")\n",
    "plt.show()\n",
    "print(\"\\n\")\n",
    "plt.figure(figsize=(25, 5))\n",
    "sns.barplot(x=list(test_class_count.keys()), y=list(test_class_count.values()))\n",
    "plt.xticks(rotation=45)\n",
    "plt.title(\"Class Distribution\")\n",
    "plt.xlabel(\"Class\")\n",
    "plt.ylabel(\"Number of Images\")\n",
    "plt.show()"
   ]
  },
  {
   "cell_type": "code",
   "execution_count": null,
   "id": "3f628135-d2d5-4a6b-be2b-03862946a425",
   "metadata": {},
   "outputs": [],
   "source": [
    "#pixel intensity ranges across images.\n",
    "pixel_values = []\n",
    "\n",
    "for path in train_image_path[:100]:  # Use a subset for efficiency\n",
    "    img = cv2.imread(path, cv2.IMREAD_GRAYSCALE)  # Convert to grayscale\n",
    "    pixel_values.extend(img.flatten())\n",
    "\n",
    "plt.hist(pixel_values, bins=50, color='gray')\n",
    "plt.title(\"Pixel Intensity Distribution\")\n",
    "plt.xlabel(\"Pixel Value\")\n",
    "plt.ylabel(\"Frequency\")\n",
    "plt.show()\n",
    "\n",
    "for path in test_image_path[:100]:\n",
    "    img = cv2.imread(path, cv2.IMREAD_GRAYSCALE)\n",
    "    pixel_values.extend(img.flatten())\n",
    "\n",
    "plt.hist(pixel_values, bins=50, color='gray')\n",
    "plt.title(\"Pixel Intensity Distribution\")\n",
    "plt.xlabel(\"Pixel Value\")\n",
    "plt.ylabel(\"Frequency\")\n",
    "plt.show()\n",
    "\n",
    "for path in valid_image_path[:100]:\n",
    "    img = cv2.imread(path, cv2.IMREAD_GRAYSCALE)\n",
    "    pixel_values.extend(img.flatten())\n",
    "\n",
    "plt.hist(pixel_values, bins=50, color='gray')\n",
    "plt.title(\"Pixel Intensity Distribution\")\n",
    "plt.xlabel(\"Pixel Value\")\n",
    "plt.ylabel(\"Frequency\")\n",
    "plt.show()"
   ]
  },
  {
   "cell_type": "code",
   "execution_count": null,
   "id": "da45e39e-f927-49d7-a689-6abad14145fe",
   "metadata": {},
   "outputs": [],
   "source": [
    "#Missing or Corrupt Images\n",
    "corrupt_images = []\n",
    "\n",
    "for path in train_image_path:\n",
    "    try:\n",
    "        img = Image.open(path)\n",
    "        img.verify()  # Check if image is corrupt\n",
    "    except (IOError, SyntaxError):\n",
    "        corrupt_images.append(path)\n",
    "\n",
    "print(f\"Corrupt images train set: {len(corrupt_images)}\")\n",
    "\n",
    "for path in test_image_path:\n",
    "    try:\n",
    "        img = Image.open(path)\n",
    "        img.verify()\n",
    "    except (IOError, SyntaxError):\n",
    "        corrupt_images.append(path)\n",
    "\n",
    "print(f\"Corrupt images test set: {len(corrupt_images)}\")\n",
    "\n",
    "for path in valid_image_path:\n",
    "    try:\n",
    "        img = Image.open(path)\n",
    "        img.verify()\n",
    "    except (IOError, SyntaxError):\n",
    "        corrupt_images.append(path)\n",
    "\n",
    "print(f\"Corrupt images in valid set: {len(corrupt_images)}\")"
   ]
  },
  {
   "cell_type": "code",
   "execution_count": null,
   "id": "b4e0cfb0-a731-4627-875c-71197cd0a437",
   "metadata": {},
   "outputs": [],
   "source": [
    "#Data Augmentation\n",
    "size=224\n",
    "train_generator=tf.keras.preprocessing.image.ImageDataGenerator(\n",
    "    rotation_range=90,\n",
    "    width_shift_range=0.0,\n",
    "    height_shift_range=0.0,\n",
    "    shear_range=0.0,\n",
    "    zoom_range=0.0,\n",
    "    horizontal_flip=False,\n",
    "    vertical_flip=False,\n",
    "    rescale=1/255.0,\n",
    "    preprocessing_function=None,\n",
    "    validation_split=0.1,\n",
    ").flow_from_directory(train_path,\n",
    "                      batch_size=164,\n",
    "                      target_size=(size,size),\n",
    "                      subset=\"training\",\n",
    "                      color_mode='rgb', #\"rgb\", \"rgba\", or \"grayscale\"\n",
    "                      class_mode='categorical',  # Use 'binary', 'sparse','categorical' or None as needed\n",
    "                      shuffle=True)\n",
    "\n",
    "valid_generator=tf.keras.preprocessing.image.ImageDataGenerator(\n",
    "    rescale=1/255.0,\n",
    "    preprocessing_function=None,\n",
    "    validation_split=0.1,\n",
    ").flow_from_directory(valid_path,\n",
    "                      batch_size=164,\n",
    "                      target_size=(224,224),\n",
    "                      subset='validation',\n",
    "                      color_mode='rgb', #\"rgb\", \"rgba\", or \"grayscale\"\n",
    "                      class_mode='categorical',  # Use 'binary', 'sparse','categorical' or None as needed\n",
    "                      shuffle=False)\n",
    "\n",
    "test_generator=tf.keras.preprocessing.image.ImageDataGenerator(\n",
    "    rescale=1/255.0,\n",
    "    preprocessing_function=None,\n",
    ").flow_from_directory(valid_path,\n",
    "                      batch_size=164,\n",
    "                      target_size=(224,224),\n",
    "                      color_mode='rgb', #\"rgb\", \"rgba\", or \"grayscale\"\n",
    "                      class_mode='categorical',  # Use 'binary', 'sparse','categorical' or None as needed\n",
    "                      shuffle=False)"
   ]
  },
  {
   "cell_type": "code",
   "execution_count": null,
   "id": "253a610c-56c6-455e-96d8-75b61f9640e9",
   "metadata": {},
   "outputs": [],
   "source": [
    "# handle imbalanced classes using oversampling, undersampling, or class weights.\n",
    "\n",
    "class_weights = compute_class_weight(\n",
    "    'balanced',\n",
    "    classes=np.unique(train_class_names),\n",
    "    y=train_class_names\n",
    ")\n",
    "class_weights = dict(enumerate(class_weights))\n",
    "pprint.pp(class_weights)\n",
    "print(\"\\n\")\n",
    "class_weights = compute_class_weight(\n",
    "    'balanced',\n",
    "    classes=np.unique(valid_class_names),\n",
    "    y=valid_class_names\n",
    ")\n",
    "class_weights = dict(enumerate(class_weights))\n",
    "pprint.pp(class_weights)\n",
    "print(\"\\n\")\n",
    "class_weights = compute_class_weight(\n",
    "    'balanced',\n",
    "    classes=np.unique(test_class_names),\n",
    "    y=test_class_names\n",
    ")\n",
    "class_weights = dict(enumerate(class_weights))\n",
    "pprint.pp(class_weights)"
   ]
  },
  {
   "cell_type": "code",
   "execution_count": null,
   "id": "065ce4c0-86c0-4dce-805a-1c2aa65692e4",
   "metadata": {
    "colab": {
     "base_uri": "https://localhost:8080/",
     "height": 582
    },
    "id": "065ce4c0-86c0-4dce-805a-1c2aa65692e4",
    "outputId": "18802dea-9a85-4256-9864-d7d32ab4fad7"
   },
   "outputs": [
    {
     "name": "stderr",
     "output_type": "stream",
     "text": [
      "/usr/local/lib/python3.10/dist-packages/keras/src/layers/convolutional/base_conv.py:107: UserWarning: Do not pass an `input_shape`/`input_dim` argument to a layer. When using Sequential models, prefer using an `Input(shape)` object as the first layer in the model instead.\n",
      "  super().__init__(activity_regularizer=activity_regularizer, **kwargs)\n"
     ]
    },
    {
     "data": {
      "text/html": [
       "<pre style=\"white-space:pre;overflow-x:auto;line-height:normal;font-family:Menlo,'DejaVu Sans Mono',consolas,'Courier New',monospace\"><span style=\"font-weight: bold\">Model: \"sequential\"</span>\n",
       "</pre>\n"
      ],
      "text/plain": [
       "\u001b[1mModel: \"sequential\"\u001b[0m\n"
      ]
     },
     "metadata": {},
     "output_type": "display_data"
    },
    {
     "data": {
      "text/html": [
       "<pre style=\"white-space:pre;overflow-x:auto;line-height:normal;font-family:Menlo,'DejaVu Sans Mono',consolas,'Courier New',monospace\">┏━━━━━━━━━━━━━━━━━━━━━━━━━━━━━━━━━━━━━━┳━━━━━━━━━━━━━━━━━━━━━━━━━━━━━┳━━━━━━━━━━━━━━━━━┓\n",
       "┃<span style=\"font-weight: bold\"> Layer (type)                         </span>┃<span style=\"font-weight: bold\"> Output Shape                </span>┃<span style=\"font-weight: bold\">         Param # </span>┃\n",
       "┡━━━━━━━━━━━━━━━━━━━━━━━━━━━━━━━━━━━━━━╇━━━━━━━━━━━━━━━━━━━━━━━━━━━━━╇━━━━━━━━━━━━━━━━━┩\n",
       "│ Conv1 (<span style=\"color: #0087ff; text-decoration-color: #0087ff\">Conv2D</span>)                       │ (<span style=\"color: #00d7ff; text-decoration-color: #00d7ff\">None</span>, <span style=\"color: #00af00; text-decoration-color: #00af00\">224</span>, <span style=\"color: #00af00; text-decoration-color: #00af00\">224</span>, <span style=\"color: #00af00; text-decoration-color: #00af00\">32</span>)        │           <span style=\"color: #00af00; text-decoration-color: #00af00\">4,736</span> │\n",
       "├──────────────────────────────────────┼─────────────────────────────┼─────────────────┤\n",
       "│ Pool1 (<span style=\"color: #0087ff; text-decoration-color: #0087ff\">MaxPooling2D</span>)                 │ (<span style=\"color: #00d7ff; text-decoration-color: #00d7ff\">None</span>, <span style=\"color: #00af00; text-decoration-color: #00af00\">112</span>, <span style=\"color: #00af00; text-decoration-color: #00af00\">112</span>, <span style=\"color: #00af00; text-decoration-color: #00af00\">32</span>)        │               <span style=\"color: #00af00; text-decoration-color: #00af00\">0</span> │\n",
       "├──────────────────────────────────────┼─────────────────────────────┼─────────────────┤\n",
       "│ Conv2 (<span style=\"color: #0087ff; text-decoration-color: #0087ff\">Conv2D</span>)                       │ (<span style=\"color: #00d7ff; text-decoration-color: #00d7ff\">None</span>, <span style=\"color: #00af00; text-decoration-color: #00af00\">112</span>, <span style=\"color: #00af00; text-decoration-color: #00af00\">112</span>, <span style=\"color: #00af00; text-decoration-color: #00af00\">64</span>)        │          <span style=\"color: #00af00; text-decoration-color: #00af00\">51,264</span> │\n",
       "├──────────────────────────────────────┼─────────────────────────────┼─────────────────┤\n",
       "│ Pool2 (<span style=\"color: #0087ff; text-decoration-color: #0087ff\">MaxPooling2D</span>)                 │ (<span style=\"color: #00d7ff; text-decoration-color: #00d7ff\">None</span>, <span style=\"color: #00af00; text-decoration-color: #00af00\">56</span>, <span style=\"color: #00af00; text-decoration-color: #00af00\">56</span>, <span style=\"color: #00af00; text-decoration-color: #00af00\">64</span>)          │               <span style=\"color: #00af00; text-decoration-color: #00af00\">0</span> │\n",
       "├──────────────────────────────────────┼─────────────────────────────┼─────────────────┤\n",
       "│ Conv3 (<span style=\"color: #0087ff; text-decoration-color: #0087ff\">Conv2D</span>)                       │ (<span style=\"color: #00d7ff; text-decoration-color: #00d7ff\">None</span>, <span style=\"color: #00af00; text-decoration-color: #00af00\">56</span>, <span style=\"color: #00af00; text-decoration-color: #00af00\">56</span>, <span style=\"color: #00af00; text-decoration-color: #00af00\">128</span>)         │          <span style=\"color: #00af00; text-decoration-color: #00af00\">73,856</span> │\n",
       "├──────────────────────────────────────┼─────────────────────────────┼─────────────────┤\n",
       "│ Conv4 (<span style=\"color: #0087ff; text-decoration-color: #0087ff\">Conv2D</span>)                       │ (<span style=\"color: #00d7ff; text-decoration-color: #00d7ff\">None</span>, <span style=\"color: #00af00; text-decoration-color: #00af00\">56</span>, <span style=\"color: #00af00; text-decoration-color: #00af00\">56</span>, <span style=\"color: #00af00; text-decoration-color: #00af00\">256</span>)         │         <span style=\"color: #00af00; text-decoration-color: #00af00\">295,168</span> │\n",
       "├──────────────────────────────────────┼─────────────────────────────┼─────────────────┤\n",
       "│ Pool3 (<span style=\"color: #0087ff; text-decoration-color: #0087ff\">MaxPooling2D</span>)                 │ (<span style=\"color: #00d7ff; text-decoration-color: #00d7ff\">None</span>, <span style=\"color: #00af00; text-decoration-color: #00af00\">28</span>, <span style=\"color: #00af00; text-decoration-color: #00af00\">28</span>, <span style=\"color: #00af00; text-decoration-color: #00af00\">256</span>)         │               <span style=\"color: #00af00; text-decoration-color: #00af00\">0</span> │\n",
       "├──────────────────────────────────────┼─────────────────────────────┼─────────────────┤\n",
       "│ Flatten1 (<span style=\"color: #0087ff; text-decoration-color: #0087ff\">Flatten</span>)                   │ (<span style=\"color: #00d7ff; text-decoration-color: #00d7ff\">None</span>, <span style=\"color: #00af00; text-decoration-color: #00af00\">200704</span>)              │               <span style=\"color: #00af00; text-decoration-color: #00af00\">0</span> │\n",
       "├──────────────────────────────────────┼─────────────────────────────┼─────────────────┤\n",
       "│ Dense1 (<span style=\"color: #0087ff; text-decoration-color: #0087ff\">Dense</span>)                       │ (<span style=\"color: #00d7ff; text-decoration-color: #00d7ff\">None</span>, <span style=\"color: #00af00; text-decoration-color: #00af00\">128</span>)                 │      <span style=\"color: #00af00; text-decoration-color: #00af00\">25,690,240</span> │\n",
       "├──────────────────────────────────────┼─────────────────────────────┼─────────────────┤\n",
       "│ Dense2 (<span style=\"color: #0087ff; text-decoration-color: #0087ff\">Dense</span>)                       │ (<span style=\"color: #00d7ff; text-decoration-color: #00d7ff\">None</span>, <span style=\"color: #00af00; text-decoration-color: #00af00\">64</span>)                  │           <span style=\"color: #00af00; text-decoration-color: #00af00\">8,256</span> │\n",
       "├──────────────────────────────────────┼─────────────────────────────┼─────────────────┤\n",
       "│ Output (<span style=\"color: #0087ff; text-decoration-color: #0087ff\">Dense</span>)                       │ (<span style=\"color: #00d7ff; text-decoration-color: #00d7ff\">None</span>, <span style=\"color: #00af00; text-decoration-color: #00af00\">38</span>)                  │           <span style=\"color: #00af00; text-decoration-color: #00af00\">2,470</span> │\n",
       "└──────────────────────────────────────┴─────────────────────────────┴─────────────────┘\n",
       "</pre>\n"
      ],
      "text/plain": [
       "┏━━━━━━━━━━━━━━━━━━━━━━━━━━━━━━━━━━━━━━┳━━━━━━━━━━━━━━━━━━━━━━━━━━━━━┳━━━━━━━━━━━━━━━━━┓\n",
       "┃\u001b[1m \u001b[0m\u001b[1mLayer (type)                        \u001b[0m\u001b[1m \u001b[0m┃\u001b[1m \u001b[0m\u001b[1mOutput Shape               \u001b[0m\u001b[1m \u001b[0m┃\u001b[1m \u001b[0m\u001b[1m        Param #\u001b[0m\u001b[1m \u001b[0m┃\n",
       "┡━━━━━━━━━━━━━━━━━━━━━━━━━━━━━━━━━━━━━━╇━━━━━━━━━━━━━━━━━━━━━━━━━━━━━╇━━━━━━━━━━━━━━━━━┩\n",
       "│ Conv1 (\u001b[38;5;33mConv2D\u001b[0m)                       │ (\u001b[38;5;45mNone\u001b[0m, \u001b[38;5;34m224\u001b[0m, \u001b[38;5;34m224\u001b[0m, \u001b[38;5;34m32\u001b[0m)        │           \u001b[38;5;34m4,736\u001b[0m │\n",
       "├──────────────────────────────────────┼─────────────────────────────┼─────────────────┤\n",
       "│ Pool1 (\u001b[38;5;33mMaxPooling2D\u001b[0m)                 │ (\u001b[38;5;45mNone\u001b[0m, \u001b[38;5;34m112\u001b[0m, \u001b[38;5;34m112\u001b[0m, \u001b[38;5;34m32\u001b[0m)        │               \u001b[38;5;34m0\u001b[0m │\n",
       "├──────────────────────────────────────┼─────────────────────────────┼─────────────────┤\n",
       "│ Conv2 (\u001b[38;5;33mConv2D\u001b[0m)                       │ (\u001b[38;5;45mNone\u001b[0m, \u001b[38;5;34m112\u001b[0m, \u001b[38;5;34m112\u001b[0m, \u001b[38;5;34m64\u001b[0m)        │          \u001b[38;5;34m51,264\u001b[0m │\n",
       "├──────────────────────────────────────┼─────────────────────────────┼─────────────────┤\n",
       "│ Pool2 (\u001b[38;5;33mMaxPooling2D\u001b[0m)                 │ (\u001b[38;5;45mNone\u001b[0m, \u001b[38;5;34m56\u001b[0m, \u001b[38;5;34m56\u001b[0m, \u001b[38;5;34m64\u001b[0m)          │               \u001b[38;5;34m0\u001b[0m │\n",
       "├──────────────────────────────────────┼─────────────────────────────┼─────────────────┤\n",
       "│ Conv3 (\u001b[38;5;33mConv2D\u001b[0m)                       │ (\u001b[38;5;45mNone\u001b[0m, \u001b[38;5;34m56\u001b[0m, \u001b[38;5;34m56\u001b[0m, \u001b[38;5;34m128\u001b[0m)         │          \u001b[38;5;34m73,856\u001b[0m │\n",
       "├──────────────────────────────────────┼─────────────────────────────┼─────────────────┤\n",
       "│ Conv4 (\u001b[38;5;33mConv2D\u001b[0m)                       │ (\u001b[38;5;45mNone\u001b[0m, \u001b[38;5;34m56\u001b[0m, \u001b[38;5;34m56\u001b[0m, \u001b[38;5;34m256\u001b[0m)         │         \u001b[38;5;34m295,168\u001b[0m │\n",
       "├──────────────────────────────────────┼─────────────────────────────┼─────────────────┤\n",
       "│ Pool3 (\u001b[38;5;33mMaxPooling2D\u001b[0m)                 │ (\u001b[38;5;45mNone\u001b[0m, \u001b[38;5;34m28\u001b[0m, \u001b[38;5;34m28\u001b[0m, \u001b[38;5;34m256\u001b[0m)         │               \u001b[38;5;34m0\u001b[0m │\n",
       "├──────────────────────────────────────┼─────────────────────────────┼─────────────────┤\n",
       "│ Flatten1 (\u001b[38;5;33mFlatten\u001b[0m)                   │ (\u001b[38;5;45mNone\u001b[0m, \u001b[38;5;34m200704\u001b[0m)              │               \u001b[38;5;34m0\u001b[0m │\n",
       "├──────────────────────────────────────┼─────────────────────────────┼─────────────────┤\n",
       "│ Dense1 (\u001b[38;5;33mDense\u001b[0m)                       │ (\u001b[38;5;45mNone\u001b[0m, \u001b[38;5;34m128\u001b[0m)                 │      \u001b[38;5;34m25,690,240\u001b[0m │\n",
       "├──────────────────────────────────────┼─────────────────────────────┼─────────────────┤\n",
       "│ Dense2 (\u001b[38;5;33mDense\u001b[0m)                       │ (\u001b[38;5;45mNone\u001b[0m, \u001b[38;5;34m64\u001b[0m)                  │           \u001b[38;5;34m8,256\u001b[0m │\n",
       "├──────────────────────────────────────┼─────────────────────────────┼─────────────────┤\n",
       "│ Output (\u001b[38;5;33mDense\u001b[0m)                       │ (\u001b[38;5;45mNone\u001b[0m, \u001b[38;5;34m38\u001b[0m)                  │           \u001b[38;5;34m2,470\u001b[0m │\n",
       "└──────────────────────────────────────┴─────────────────────────────┴─────────────────┘\n"
      ]
     },
     "metadata": {},
     "output_type": "display_data"
    },
    {
     "data": {
      "text/html": [
       "<pre style=\"white-space:pre;overflow-x:auto;line-height:normal;font-family:Menlo,'DejaVu Sans Mono',consolas,'Courier New',monospace\"><span style=\"font-weight: bold\"> Total params: </span><span style=\"color: #00af00; text-decoration-color: #00af00\">26,125,990</span> (99.66 MB)\n",
       "</pre>\n"
      ],
      "text/plain": [
       "\u001b[1m Total params: \u001b[0m\u001b[38;5;34m26,125,990\u001b[0m (99.66 MB)\n"
      ]
     },
     "metadata": {},
     "output_type": "display_data"
    },
    {
     "data": {
      "text/html": [
       "<pre style=\"white-space:pre;overflow-x:auto;line-height:normal;font-family:Menlo,'DejaVu Sans Mono',consolas,'Courier New',monospace\"><span style=\"font-weight: bold\"> Trainable params: </span><span style=\"color: #00af00; text-decoration-color: #00af00\">26,125,990</span> (99.66 MB)\n",
       "</pre>\n"
      ],
      "text/plain": [
       "\u001b[1m Trainable params: \u001b[0m\u001b[38;5;34m26,125,990\u001b[0m (99.66 MB)\n"
      ]
     },
     "metadata": {},
     "output_type": "display_data"
    },
    {
     "data": {
      "text/html": [
       "<pre style=\"white-space:pre;overflow-x:auto;line-height:normal;font-family:Menlo,'DejaVu Sans Mono',consolas,'Courier New',monospace\"><span style=\"font-weight: bold\"> Non-trainable params: </span><span style=\"color: #00af00; text-decoration-color: #00af00\">0</span> (0.00 B)\n",
       "</pre>\n"
      ],
      "text/plain": [
       "\u001b[1m Non-trainable params: \u001b[0m\u001b[38;5;34m0\u001b[0m (0.00 B)\n"
      ]
     },
     "metadata": {},
     "output_type": "display_data"
    },
    {
     "name": "stdout",
     "output_type": "stream",
     "text": [
      "None\n"
     ]
    }
   ],
   "source": [
    "from tensorflow import keras\n",
    "model = keras.models.Sequential()  # To build NN\n",
    "\n",
    "model.add(keras.layers.Conv2D(filters=32, kernel_size=7, strides=1,\n",
    "                padding=\"same\", activation=\"relu\", name=\"Conv1\", input_shape= (224,224,3)))\n",
    "\n",
    "model.add(keras.layers.MaxPool2D(pool_size=2, name=\"Pool1\"))\n",
    "\n",
    "model.add(keras.layers.Conv2D(filters=64, kernel_size=5, strides=1,\n",
    "                              padding=\"same\", activation=\"relu\", name=\"Conv2\"))\n",
    "model.add(keras.layers.MaxPool2D(pool_size=2, name=\"Pool2\"))\n",
    "\n",
    "model.add(keras.layers.Conv2D(filters=128, kernel_size=3, strides=1,\n",
    "                              padding=\"same\", activation=\"relu\", name=\"Conv3\"))\n",
    "\n",
    "model.add(keras.layers.Conv2D(filters=256, kernel_size=3, strides=1,\n",
    "                              padding=\"same\", activation=\"relu\", name=\"Conv4\"))\n",
    "\n",
    "model.add(keras.layers.MaxPool2D(pool_size=2, name=\"Pool3\"))\n",
    "\n",
    "model.add(keras.layers.Flatten(name=\"Flatten1\"))   #flatten layer - to convert into 1d vector\n",
    "\n",
    "model.add(keras.layers.Dense(128, activation=\"relu\", name=\"Dense1\"))  #hidden layer\n",
    "tf.keras.layers.Dropout(0.5)\n",
    "\n",
    "model.add(keras.layers.Dense(64, activation=\"relu\", name=\"Dense2\"))  #hidden layer\n",
    "tf.keras.layers.Dropout(0.5)\n",
    "\n",
    "model.add(keras.layers.Dense(38, activation=\"softmax\", name=\"Output\"))  #output layer\n",
    "\n",
    "# The model’s summary() method displays all the model’s layers\n",
    "print(model.summary())"
   ]
  },
  {
   "cell_type": "code",
   "execution_count": null,
   "id": "7943be8f-537f-4672-8852-9475e71c281e",
   "metadata": {
    "id": "7943be8f-537f-4672-8852-9475e71c281e"
   },
   "outputs": [],
   "source": [
    "from tensorflow.keras.callbacks import EarlyStopping, ModelCheckpoint,ReduceLROnPlateau\n",
    "\n",
    "early_stopping = EarlyStopping(monitor='val_loss', patience=15, restore_best_weights=True)\n",
    "\n",
    "model_checkpoint = ModelCheckpoint('best_model.keras', monitor='val_loss', save_best_only=True)\n",
    "\n",
    "model_ReduceLROnPlateau = ReduceLROnPlateau(monitor='val_loss', factor=0.1, patience=15, min_lr=0.000001)\n",
    "\n",
    "callbacks=[early_stopping,model_checkpoint,model_ReduceLROnPlateau]"
   ]
  },
  {
   "cell_type": "code",
   "execution_count": null,
   "id": "364dc1a9-2dbd-4fe2-ae17-25d24732174e",
   "metadata": {
    "id": "364dc1a9-2dbd-4fe2-ae17-25d24732174e"
   },
   "outputs": [],
   "source": [
    "model.compile(loss='categorical_crossentropy', optimizer= 'Adam', metrics=[\"accuracy\",\"precision\",\"recall\"])"
   ]
  },
  {
   "cell_type": "code",
   "execution_count": null,
   "id": "0c713ad3-c006-41ca-a31d-2c18c2281a91",
   "metadata": {
    "colab": {
     "base_uri": "https://localhost:8080/"
    },
    "id": "0c713ad3-c006-41ca-a31d-2c18c2281a91",
    "outputId": "cbc6d82d-4825-4712-ab70-f29c8a6884fc"
   },
   "outputs": [
    {
     "name": "stdout",
     "output_type": "stream",
     "text": [
      "Epoch 1/5\n"
     ]
    },
    {
     "name": "stderr",
     "output_type": "stream",
     "text": [
      "/usr/local/lib/python3.10/dist-packages/keras/src/trainers/data_adapters/py_dataset_adapter.py:122: UserWarning: Your `PyDataset` class should call `super().__init__(**kwargs)` in its constructor. `**kwargs` can include `workers`, `use_multiprocessing`, `max_queue_size`. Do not pass these arguments to `fit()`, as they will be ignored.\n",
      "  self._warn_if_super_not_called()\n"
     ]
    },
    {
     "name": "stdout",
     "output_type": "stream",
     "text": [
      "\u001b[1m386/386\u001b[0m \u001b[32m━━━━━━━━━━━━━━━━━━━━\u001b[0m\u001b[37m\u001b[0m \u001b[1m961s\u001b[0m 2s/step - accuracy: 0.2391 - loss: 2.7456 - precision: 0.7043 - recall: 0.1080 - val_accuracy: 0.6429 - val_loss: 1.1250 - val_precision: 0.8062 - val_recall: 0.5086 - learning_rate: 0.0010\n",
      "Epoch 2/5\n",
      "\u001b[1m386/386\u001b[0m \u001b[32m━━━━━━━━━━━━━━━━━━━━\u001b[0m\u001b[37m\u001b[0m \u001b[1m882s\u001b[0m 2s/step - accuracy: 0.7192 - loss: 0.9000 - precision: 0.8269 - recall: 0.6229 - val_accuracy: 0.7979 - val_loss: 0.6367 - val_precision: 0.8558 - val_recall: 0.7560 - learning_rate: 0.0010\n",
      "Epoch 3/5\n",
      "\u001b[1m386/386\u001b[0m \u001b[32m━━━━━━━━━━━━━━━━━━━━\u001b[0m\u001b[37m\u001b[0m \u001b[1m878s\u001b[0m 2s/step - accuracy: 0.8414 - loss: 0.4949 - precision: 0.8854 - recall: 0.8010 - val_accuracy: 0.8444 - val_loss: 0.4652 - val_precision: 0.8888 - val_recall: 0.8123 - learning_rate: 0.0010\n",
      "Epoch 4/5\n",
      "\u001b[1m386/386\u001b[0m \u001b[32m━━━━━━━━━━━━━━━━━━━━\u001b[0m\u001b[37m\u001b[0m \u001b[1m924s\u001b[0m 2s/step - accuracy: 0.8882 - loss: 0.3469 - precision: 0.9146 - recall: 0.8653 - val_accuracy: 0.8726 - val_loss: 0.4271 - val_precision: 0.8932 - val_recall: 0.8548 - learning_rate: 0.0010\n",
      "Epoch 5/5\n",
      "\u001b[1m386/386\u001b[0m \u001b[32m━━━━━━━━━━━━━━━━━━━━\u001b[0m\u001b[37m\u001b[0m \u001b[1m919s\u001b[0m 2s/step - accuracy: 0.9132 - loss: 0.2653 - precision: 0.9295 - recall: 0.8981 - val_accuracy: 0.8651 - val_loss: 0.4127 - val_precision: 0.8884 - val_recall: 0.8456 - learning_rate: 0.0010\n"
     ]
    }
   ],
   "source": [
    "history = model.fit(train_generator,\n",
    "                    epochs          = 5,\n",
    "                    validation_data = valid_generator,\n",
    "                    callbacks = callbacks\n",
    "                    )"
   ]
  },
  {
   "cell_type": "code",
   "execution_count": null,
   "id": "adc37f0f-1fd3-4a4c-8af3-4e48384b50ed",
   "metadata": {
    "id": "adc37f0f-1fd3-4a4c-8af3-4e48384b50ed"
   },
   "outputs": [],
   "source": [
    "import seaborn as sns\n",
    "sns.set()\n",
    "\n",
    "acc = history.history['accuracy']\n",
    "val_acc = history.history['val_accuracy']\n",
    "\n",
    "precision = history.history['precision']\n",
    "val_precision = history.history['val_precision']\n",
    "\n",
    "recall =history.history['recall']\n",
    "val_recall =history.history['val_recall']\n",
    "\n",
    "loss = history.history['loss']\n",
    "val_loss = history.history['val_loss']\n",
    "\n",
    "epochs = range(1, len(loss) + 1)"
   ]
  },
  {
   "cell_type": "code",
   "execution_count": null,
   "id": "oKeQzTgiaPsG",
   "metadata": {
    "colab": {
     "base_uri": "https://localhost:8080/",
     "height": 480
    },
    "id": "oKeQzTgiaPsG",
    "outputId": "c800b909-73a9-47fa-9d51-c05097940373"
   },
   "outputs": [
    {
     "data": {
      "image/png": "[encoded data removed]",
      "text/plain": [
       "<Figure size 640x480 with 1 Axes>"
      ]
     },
     "metadata": {},
     "output_type": "display_data"
    }
   ],
   "source": [
    "plt.plot(epochs, acc, color='green', label='Training Accuracy')\n",
    "plt.plot(epochs, val_acc, color='blue', label='Validation Accuracy')\n",
    "plt.title('Training and Validation Accuracy')\n",
    "plt.ylabel('Accuracy')\n",
    "plt.xlabel('Epoch')\n",
    "plt.legend()\n",
    "plt.ylim(0,1.02)\n",
    "plt.show()"
   ]
  },
  {
   "cell_type": "code",
   "execution_count": null,
   "id": "krNGkYVsaYEI",
   "metadata": {
    "id": "krNGkYVsaYEI"
   },
   "outputs": [],
   "source": [
    "model.save('CNN_plantdiseases_model.keras')"
   ]
  },
  {
   "cell_type": "code",
   "execution_count": null,
   "id": "UhIefQ72xzpg",
   "metadata": {
    "colab": {
     "base_uri": "https://localhost:8080/"
    },
    "id": "UhIefQ72xzpg",
    "outputId": "87eeaa04-44b3-47a3-dc52-53e4429a94f5"
   },
   "outputs": [
    {
     "name": "stdout",
     "output_type": "stream",
     "text": [
      "\u001b[1m108/108\u001b[0m \u001b[32m━━━━━━━━━━━━━━━━━━━━\u001b[0m\u001b[37m\u001b[0m \u001b[1m43s\u001b[0m 397ms/step - accuracy: 0.8855 - loss: 0.3546 - precision: 0.9048 - recall: 0.8719\n",
      "Loss     :  0.38471847772598267\n",
      "Accuracy :  0.8734350204467773\n",
      "Precision  :  0.8966789841651917\n",
      "Recall :  0.8573867678642273\n"
     ]
    }
   ],
   "source": [
    "model_evaluate = model.evaluate(test_generator)\n",
    "print(\"Loss     : \",model_evaluate[0])\n",
    "print(\"Accuracy : \",model_evaluate[1])\n",
    "print(\"Precision  : \",model_evaluate[2])\n",
    "print(\"Recall : \",model_evaluate[3])"
   ]
  },
  {
   "cell_type": "code",
   "execution_count": null,
   "id": "rRXDnvDDx0s-",
   "metadata": {
    "id": "rRXDnvDDx0s-"
   },
   "outputs": [],
   "source": [
    "model.save('CNN_plantdiseases_model.keras')"
   ]
  }
 ],
 "metadata": {
  "accelerator": "GPU",
  "colab": {
   "gpuType": "T4",
   "provenance": []
  },
  "kernelspec": {
   "display_name": "Python 3 (ipykernel)",
   "language": "python",
   "name": "python3"
  },
  "language_info": {
   "codemirror_mode": {
    "name": "ipython",
    "version": 3
   },
   "file_extension": ".py",
   "mimetype": "text/x-python",
   "name": "python",
   "nbconvert_exporter": "python",
   "pygments_lexer": "ipython3",
   "version": "3.12.4"
  }
 },
 "nbformat": 4,
 "nbformat_minor": 5
}
